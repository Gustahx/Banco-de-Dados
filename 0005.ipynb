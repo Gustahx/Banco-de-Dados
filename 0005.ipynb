{
  "nbformat": 4,
  "nbformat_minor": 0,
  "metadata": {
    "colab": {
      "provenance": [],
      "authorship_tag": "ABX9TyPd/5La111fBpNW3Ohfmoel",
      "include_colab_link": true
    },
    "kernelspec": {
      "name": "python3",
      "display_name": "Python 3"
    },
    "language_info": {
      "name": "python"
    }
  },
  "cells": [
    {
      "cell_type": "markdown",
      "metadata": {
        "id": "view-in-github",
        "colab_type": "text"
      },
      "source": [
        "<a href=\"https://colab.research.google.com/github/Gustahx/Banco-de-Dados/blob/main/0005.ipynb\" target=\"_parent\"><img src=\"https://colab.research.google.com/assets/colab-badge.svg\" alt=\"Open In Colab\"/></a>"
      ]
    },
    {
      "cell_type": "code",
      "execution_count": 59,
      "metadata": {
        "id": "JQzS6SJOJAz8"
      },
      "outputs": [],
      "source": [
        "#1-Escreva uma função que recebe uma lista de Strings e retorna:\n",
        "#apenas as palavras que começam com a letra A\n",
        "#a quantidade de palavras encontradas\n",
        "def listaLetraA(palavras):\n",
        "  wordA = []\n",
        "  for i in palavras:\n",
        "    if i[0] == 'a':\n",
        "      wordA.append(i)\n",
        "  print(len(wordA))\n",
        "  return wordA"
      ]
    },
    {
      "cell_type": "code",
      "source": [
        "animais = ['arara', 'morcego', 'macaco', 'ariranha', 'papagaio' ]\n",
        "listaLetraA(animais)"
      ],
      "metadata": {
        "id": "6zjwIhpjXaa4"
      },
      "execution_count": null,
      "outputs": []
    },
    {
      "cell_type": "code",
      "source": [
        "#2-Escreva um função que receba uma lista de números\n",
        "#e retorne o produto desses números.\n",
        "def produto(numeros):\n",
        "  resultado = 1\n",
        "  for n in numeros:\n",
        "    resultado *= n\n",
        "  return resultado\n",
        "\n",
        "numbers = [3, 4, 2, 6, 7] \n",
        "produto(numbers)"
      ],
      "metadata": {
        "id": "8-zg0ExHZDM6"
      },
      "execution_count": null,
      "outputs": []
    },
    {
      "cell_type": "code",
      "source": [
        "#3-Escreva um função que receba uma lista de números\n",
        "#e retorne a soma dos números paresdef produto(numeros):\n",
        "def somatorio(numeros):\n",
        "  soma = 0\n",
        "  for n in numeros:\n",
        "    if n % 2 == 0:\n",
        "      soma += n\n",
        "  return soma "
      ],
      "metadata": {
        "id": "Eg_RyWP9crQU"
      },
      "execution_count": 70,
      "outputs": []
    },
    {
      "cell_type": "code",
      "source": [
        "numbers = [4, 2]\n",
        "somatorio(numbers)"
      ],
      "metadata": {
        "id": "dtBq0H3piOap"
      },
      "execution_count": null,
      "outputs": []
    },
    {
      "cell_type": "code",
      "source": [
        "#4-Função que recebe uma lista de nomes,\n",
        "#e retorna a string com o maior números de caracteres.\n",
        "users = ['Zeca', 'anastacio', 'josefina', 'ivo Manoel da Silva', 'amaralin']\n",
        "\n",
        "def maiorString(users):\n",
        "  maior = ''\n",
        "  for u in users:\n",
        "    if(len(u)>= len(maior)):\n",
        "      maior = u \n",
        "  return maior\n",
        "  \n",
        "maiorString(users)"
      ],
      "metadata": {
        "id": "l2NgOmhdi7FQ"
      },
      "execution_count": null,
      "outputs": []
    }
  ]
}